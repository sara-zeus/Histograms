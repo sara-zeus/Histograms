{
  "nbformat": 4,
  "nbformat_minor": 0,
  "metadata": {
    "colab": {
      "provenance": [],
      "authorship_tag": "ABX9TyPjHWSixscq/OC9Kaa5Qbrw",
      "include_colab_link": true
    },
    "kernelspec": {
      "name": "python3",
      "display_name": "Python 3"
    },
    "language_info": {
      "name": "python"
    }
  },
  "cells": [
    {
      "cell_type": "markdown",
      "metadata": {
        "id": "view-in-github",
        "colab_type": "text"
      },
      "source": [
        "<a href=\"https://colab.research.google.com/github/sara-zeus/Histograms/blob/main/forPractice.ipynb\" target=\"_parent\"><img src=\"https://colab.research.google.com/assets/colab-badge.svg\" alt=\"Open In Colab\"/></a>"
      ]
    },
    {
      "cell_type": "code",
      "execution_count": 14,
      "metadata": {
        "colab": {
          "base_uri": "https://localhost:8080/"
        },
        "id": "OHGMUqrgHE5J",
        "outputId": "cb93a791-07ba-4acf-e89a-7bb581746671"
      },
      "outputs": [
        {
          "output_type": "stream",
          "name": "stdout",
          "text": [
            "{}\n",
            "0\n",
            "1\n",
            "{0: 1}\n",
            "{0: 1}\n",
            "1\n",
            "1\n",
            "{0: 1, 1: 1}\n",
            "{0: 1, 1: 1}\n",
            "1\n",
            "2\n",
            "{0: 1, 1: 2}\n",
            "{0: 1, 1: 2}\n",
            "1\n",
            "3\n",
            "{0: 1, 1: 3}\n",
            "{0: 1, 1: 3}\n",
            "2\n",
            "1\n",
            "{0: 1, 1: 3, 2: 1}\n",
            "{0: 1, 1: 3, 2: 1}\n",
            "3\n",
            "1\n",
            "{0: 1, 1: 3, 2: 1, 3: 1}\n",
            "{0: 1, 1: 3, 2: 1, 3: 1}\n",
            "7\n",
            "1\n",
            "{0: 1, 1: 3, 2: 1, 3: 1, 7: 1}\n",
            "{0: 1, 1: 3, 2: 1, 3: 1, 7: 1}\n",
            "7\n",
            "2\n",
            "{0: 1, 1: 3, 2: 1, 3: 1, 7: 2}\n",
            "{0: 1, 1: 3, 2: 1, 3: 1, 7: 2}\n",
            "23\n",
            "1\n",
            "{0: 1, 1: 3, 2: 1, 3: 1, 7: 2, 23: 1}\n",
            "{0: 1, 1: 3, 2: 1, 3: 1, 7: 2, 23: 1}\n",
            "1\n",
            "4\n",
            "{0: 1, 1: 4, 2: 1, 3: 1, 7: 2, 23: 1}\n",
            "{0: 1, 1: 4, 2: 1, 3: 1, 7: 2, 23: 1}\n"
          ]
        }
      ],
      "source": [
        "a=[0,1,1,1,2,3,7,7,23,1]\n",
        "\n",
        "def count_elements(seq) :\n",
        "  hist={}\n",
        "\n",
        "  for i in seq:\n",
        "    print(hist)\n",
        "  #{ , :0, :0, :0, :0, , , }\n",
        "\n",
        "    hist[i]=hist.get(i,0)+1\n",
        "    print(i)\n",
        "    print(hist[i])\n",
        "    print(hist)\n",
        "\n",
        "\n",
        "\n",
        "\n",
        "  return hist\n",
        "\n",
        "counted = count_elements(a)\n",
        "print(counted)"
      ]
    },
    {
      "cell_type": "code",
      "source": [
        "def ascii_histogram(seq):\n",
        "  counted= count_elements(seq)\n",
        "  for k in sorted(counted):\n",
        "    print(f'{k}{\"+\"*counted[k]}')\n",
        "\n",
        "\n"
      ],
      "metadata": {
        "id": "7dciGIzeJn9v"
      },
      "execution_count": 8,
      "outputs": []
    },
    {
      "cell_type": "code",
      "source": [
        "help(dict.get)"
      ],
      "metadata": {
        "colab": {
          "base_uri": "https://localhost:8080/"
        },
        "id": "y56Z7TRWW_-G",
        "outputId": "aee9d93b-3478-4806-ceab-74d37e64ae24"
      },
      "execution_count": 4,
      "outputs": [
        {
          "output_type": "stream",
          "name": "stdout",
          "text": [
            "Help on method_descriptor:\n",
            "\n",
            "get(self, key, default=None, /)\n",
            "    Return the value for key if key is in the dictionary, else default.\n",
            "\n"
          ]
        }
      ]
    },
    {
      "cell_type": "code",
      "source": [],
      "metadata": {
        "id": "ZCCXQGRhXAB_"
      },
      "execution_count": null,
      "outputs": []
    },
    {
      "cell_type": "code",
      "source": [],
      "metadata": {
        "id": "1Yl0xNDvXAGa"
      },
      "execution_count": null,
      "outputs": []
    }
  ]
}